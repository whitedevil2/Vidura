{
  "nbformat": 4,
  "nbformat_minor": 0,
  "metadata": {
    "kernelspec": {
      "display_name": "Python 3",
      "language": "python",
      "name": "python3"
    },
    "language_info": {
      "codemirror_mode": {
        "name": "ipython",
        "version": 3
      },
      "file_extension": ".py",
      "mimetype": "text/x-python",
      "name": "python",
      "nbconvert_exporter": "python",
      "pygments_lexer": "ipython3",
      "version": "3.7.7"
    },
    "colab": {
      "name": "Notebook_Rakesh.ipynb",
      "provenance": []
    }
  },
  "cells": [
    {
      "cell_type": "markdown",
      "metadata": {
        "id": "aNl_dRhlcWDK",
        "colab_type": "text"
      },
      "source": [
        "## Efficient Q&A and search system for Parliamentary Questions\n",
        "\n",
        "### Problem Statement: \n",
        "\n",
        " *During parliament session, each Department receives number of Parliament Questions on varied topics raised by MPs and handled in a very time bound manner on top priority. Each reply is generally prepared by seeking inputs from all the other relevant departments which requires lot of efforts and is also time consuming. It is desired a platform can be designed which can provide responses to similar PQ asked earlier, suggest probable reply and indicate different departments having similar programs and information. This will be helpful in preparing proper reply to PQ. As of now there are some search tools, separate for Lok Sabha and Rajya Sabha. But a unified, fast and effective mechanism is missing.*"
      ]
    },
    {
      "cell_type": "code",
      "metadata": {
        "id": "pT1IJJvecWDM",
        "colab_type": "code",
        "colab": {
          "base_uri": "https://localhost:8080/",
          "height": 367
        },
        "outputId": "c5d5d4bd-6923-4b2a-c836-76000ef6bd18"
      },
      "source": [
        "#Importing libraries\n",
        "import sys\n",
        "import spacy\n",
        "import pandas as pd\n",
        "import math\n",
        "import re\n",
        "import numpy as np\n",
        "from collections import Counter\n",
        "import gzip\n",
        "import gensim \n",
        "import logging\n",
        "!pip install transformers\n",
        "import torch\n",
        "from transformers import BertForQuestionAnswering\n",
        "from transformers import BertTokenizer"
      ],
      "execution_count": 1,
      "outputs": [
        {
          "output_type": "stream",
          "text": [
            "Requirement already satisfied: transformers in /usr/local/lib/python3.6/dist-packages (3.0.2)\n",
            "Requirement already satisfied: dataclasses; python_version < \"3.7\" in /usr/local/lib/python3.6/dist-packages (from transformers) (0.7)\n",
            "Requirement already satisfied: regex!=2019.12.17 in /usr/local/lib/python3.6/dist-packages (from transformers) (2019.12.20)\n",
            "Requirement already satisfied: tokenizers==0.8.1.rc1 in /usr/local/lib/python3.6/dist-packages (from transformers) (0.8.1rc1)\n",
            "Requirement already satisfied: sentencepiece!=0.1.92 in /usr/local/lib/python3.6/dist-packages (from transformers) (0.1.91)\n",
            "Requirement already satisfied: requests in /usr/local/lib/python3.6/dist-packages (from transformers) (2.23.0)\n",
            "Requirement already satisfied: sacremoses in /usr/local/lib/python3.6/dist-packages (from transformers) (0.0.43)\n",
            "Requirement already satisfied: tqdm>=4.27 in /usr/local/lib/python3.6/dist-packages (from transformers) (4.41.1)\n",
            "Requirement already satisfied: numpy in /usr/local/lib/python3.6/dist-packages (from transformers) (1.18.5)\n",
            "Requirement already satisfied: packaging in /usr/local/lib/python3.6/dist-packages (from transformers) (20.4)\n",
            "Requirement already satisfied: filelock in /usr/local/lib/python3.6/dist-packages (from transformers) (3.0.12)\n",
            "Requirement already satisfied: idna<3,>=2.5 in /usr/local/lib/python3.6/dist-packages (from requests->transformers) (2.10)\n",
            "Requirement already satisfied: urllib3!=1.25.0,!=1.25.1,<1.26,>=1.21.1 in /usr/local/lib/python3.6/dist-packages (from requests->transformers) (1.24.3)\n",
            "Requirement already satisfied: chardet<4,>=3.0.2 in /usr/local/lib/python3.6/dist-packages (from requests->transformers) (3.0.4)\n",
            "Requirement already satisfied: certifi>=2017.4.17 in /usr/local/lib/python3.6/dist-packages (from requests->transformers) (2020.6.20)\n",
            "Requirement already satisfied: click in /usr/local/lib/python3.6/dist-packages (from sacremoses->transformers) (7.1.2)\n",
            "Requirement already satisfied: joblib in /usr/local/lib/python3.6/dist-packages (from sacremoses->transformers) (0.16.0)\n",
            "Requirement already satisfied: six in /usr/local/lib/python3.6/dist-packages (from sacremoses->transformers) (1.15.0)\n",
            "Requirement already satisfied: pyparsing>=2.0.2 in /usr/local/lib/python3.6/dist-packages (from packaging->transformers) (2.4.7)\n"
          ],
          "name": "stdout"
        }
      ]
    },
    {
      "cell_type": "code",
      "metadata": {
        "scrolled": true,
        "id": "u9g_mIHqcWDT",
        "colab_type": "code",
        "colab": {
          "base_uri": "https://localhost:8080/",
          "height": 759
        },
        "outputId": "8293245a-de0c-46c0-ddaa-744762c26381"
      },
      "source": [
        "#Fetching the data\n",
        "data=pd.read_csv(\"sample_data/rajyasabha_questions_and_answers_2009.csv\")\n",
        "data.head()"
      ],
      "execution_count": 2,
      "outputs": [
        {
          "output_type": "execute_result",
          "data": {
            "text/html": [
              "<div>\n",
              "<style scoped>\n",
              "    .dataframe tbody tr th:only-of-type {\n",
              "        vertical-align: middle;\n",
              "    }\n",
              "\n",
              "    .dataframe tbody tr th {\n",
              "        vertical-align: top;\n",
              "    }\n",
              "\n",
              "    .dataframe thead th {\n",
              "        text-align: right;\n",
              "    }\n",
              "</style>\n",
              "<table border=\"1\" class=\"dataframe\">\n",
              "  <thead>\n",
              "    <tr style=\"text-align: right;\">\n",
              "      <th></th>\n",
              "      <th>question</th>\n",
              "      <th>answer_date</th>\n",
              "      <th>ministry</th>\n",
              "      <th>question_type</th>\n",
              "      <th>question_no</th>\n",
              "      <th>question_by</th>\n",
              "      <th>question_title</th>\n",
              "      <th>question_description</th>\n",
              "      <th>answer</th>\n",
              "      <th>Unnamed: 9</th>\n",
              "      <th>Unnamed: 10</th>\n",
              "      <th>Unnamed: 11</th>\n",
              "      <th>Unnamed: 12</th>\n",
              "    </tr>\n",
              "  </thead>\n",
              "  <tbody>\n",
              "    <tr>\n",
              "      <th>0</th>\n",
              "      <td>150000</td>\n",
              "      <td>16.12.2009</td>\n",
              "      <td>COMMERCE AND INDUSTRY</td>\n",
              "      <td>STARRED</td>\n",
              "      <td>396</td>\n",
              "      <td>SHRI ISHWAR SINGH</td>\n",
              "      <td>SPURT IN PRICES OF GOLD .</td>\n",
              "      <td>(a) whether Government is aware that there is ...</td>\n",
              "      <td>MINISTER OF COMMERCE AND INDUSTRY (SHRI ANAND ...</td>\n",
              "      <td>NaN</td>\n",
              "      <td>NaN</td>\n",
              "      <td>NaN</td>\n",
              "      <td>NaN</td>\n",
              "    </tr>\n",
              "    <tr>\n",
              "      <th>1</th>\n",
              "      <td>150001</td>\n",
              "      <td>16.12.2009</td>\n",
              "      <td>COMMERCE AND INDUSTRY</td>\n",
              "      <td>UNSTARRED</td>\n",
              "      <td>2927</td>\n",
              "      <td>Dr. T. Subbarami Reddy</td>\n",
              "      <td>OPENING OF TRADE CENTRES IN LATIN AMERICAN COU...</td>\n",
              "      <td>(a) whether in order to capitalize on the lull...</td>\n",
              "      <td>MINISTER OF COMMERCE AND INDUSTRY (SHRI ANAND ...</td>\n",
              "      <td>NaN</td>\n",
              "      <td>NaN</td>\n",
              "      <td>NaN</td>\n",
              "      <td>NaN</td>\n",
              "    </tr>\n",
              "    <tr>\n",
              "      <th>2</th>\n",
              "      <td>150002</td>\n",
              "      <td>16.12.2009</td>\n",
              "      <td>COMMERCE AND INDUSTRY</td>\n",
              "      <td>UNSTARRED</td>\n",
              "      <td>2929</td>\n",
              "      <td>SHRI SHREEGOPAL VYAS</td>\n",
              "      <td>EARLY EXIT OF CHINESE BUSINESSMEN FROM TRADE F...</td>\n",
              "      <td>(a) whether the Chinese businessmen packed of ...</td>\n",
              "      <td>MINISTER OF COMMERCE AND INDUSTRY ( SHRI ANAND...</td>\n",
              "      <td>NaN</td>\n",
              "      <td>NaN</td>\n",
              "      <td>NaN</td>\n",
              "      <td>NaN</td>\n",
              "    </tr>\n",
              "    <tr>\n",
              "      <th>3</th>\n",
              "      <td>150003</td>\n",
              "      <td>16.12.2009</td>\n",
              "      <td>COMMERCE AND INDUSTRY</td>\n",
              "      <td>UNSTARRED</td>\n",
              "      <td>2931</td>\n",
              "      <td>Smt. Kusum Rai</td>\n",
              "      <td>DONATION BY STC AND MMTC TO STUDENT WINGS OF P...</td>\n",
              "      <td>to answer to Starred Question 97 given in the ...</td>\n",
              "      <td>MINISTER OF COMMERCE AND INDUSTRY ( SHRI ANAND...</td>\n",
              "      <td>NaN</td>\n",
              "      <td>NaN</td>\n",
              "      <td>NaN</td>\n",
              "      <td>NaN</td>\n",
              "    </tr>\n",
              "    <tr>\n",
              "      <th>4</th>\n",
              "      <td>150004</td>\n",
              "      <td>16.12.2009</td>\n",
              "      <td>COMMERCE AND INDUSTRY</td>\n",
              "      <td>UNSTARRED</td>\n",
              "      <td>2932</td>\n",
              "      <td>SHRI GIREESH KUMAR SANGHI</td>\n",
              "      <td>ENVISAGED EXPORT EARNING TARGETS .</td>\n",
              "      <td>(a) the envisaged export earning targets for t...</td>\n",
              "      <td>MINISTER OF COMMERCE AND INDUSTRY ( SHRI ANAND...</td>\n",
              "      <td>NaN</td>\n",
              "      <td>NaN</td>\n",
              "      <td>NaN</td>\n",
              "      <td>NaN</td>\n",
              "    </tr>\n",
              "  </tbody>\n",
              "</table>\n",
              "</div>"
            ],
            "text/plain": [
              "   question answer_date  ... Unnamed: 11 Unnamed: 12\n",
              "0    150000  16.12.2009  ...         NaN         NaN\n",
              "1    150001  16.12.2009  ...         NaN         NaN\n",
              "2    150002  16.12.2009  ...         NaN         NaN\n",
              "3    150003  16.12.2009  ...         NaN         NaN\n",
              "4    150004  16.12.2009  ...         NaN         NaN\n",
              "\n",
              "[5 rows x 13 columns]"
            ]
          },
          "metadata": {
            "tags": []
          },
          "execution_count": 2
        }
      ]
    },
    {
      "cell_type": "code",
      "metadata": {
        "id": "A4nSSC3-cWDZ",
        "colab_type": "code",
        "colab": {
          "base_uri": "https://localhost:8080/",
          "height": 973
        },
        "outputId": "f8609b12-80a6-49e5-bd3a-c7663f3c13ea"
      },
      "source": [
        "questions=data['question_description']\n",
        "\n",
        "print('Sample questions from the dataset\\n')\n",
        "for i in range(10):\n",
        "    print('Question No '+str(i+1)+'\\n')\n",
        "    print(questions[i]+'\\n')\n",
        "    \n",
        "print(questions)\n",
        "    "
      ],
      "execution_count": 3,
      "outputs": [
        {
          "output_type": "stream",
          "text": [
            "Sample questions from the dataset\n",
            "\n",
            "Question No 1\n",
            "\n",
            "(a) whether Government is aware that there is spurt in prices of gold in the country in the last few months; (b) if so, the reasons therefor; (c) whether the import policy of gold needs further changes in view of spurt in prices of gold; and (d) if so, the steps Government proposes to take to bring down the prices of gold in the country?\n",
            "\n",
            "Question No 2\n",
            "\n",
            "(a) whether in order to capitalize on the lull in trade between the US and Latin American countries, Government proposed to open up four to five trade centres in a few Latin American countries on a permanent basis, to create awareness among investors and business people alike on Indian products; (b) whether India and Latin American countries have potential to treble their bilateral trade from 2007-08 level of $ 12 billion to $36 billion by 2012-2013; and (c) whether Government is also planning to set up help desks across India like Bangalore and Hyderabad to provide valuable information on Latin American countries?\n",
            "\n",
            "Question No 3\n",
            "\n",
            "(a) whether the Chinese businessmen packed of early from Trade Fair and they do like this only; (b) whether it is a fact that they carry the Indian goods, imitate them and sell them here itself; (c) whether this country has been given the status of `Focus country`; and (d) whether Government in view of above is planning to prevent negative fallout of it; if so, the details thereof?\n",
            "\n",
            "Question No 4\n",
            "\n",
            "to answer to Starred Question 97 given in the Rajya Sabha on 25 November, 2009 and state: (a) whether student wings of any other political parties except NSUI has been donated by PSUs like STC and MMTC; (b) if so, the details thereof; and (c) if not, why only NSUI, the student wing of ruling party Indian National Congress was given donations?\n",
            "\n",
            "Question No 5\n",
            "\n",
            "(a) the envisaged export earning targets for the fiscal year, 2008-09; (b) whether corresponding targets were achieved during the first and second quarters of 2008-09; and (c) if not, will further efforts be made to motivate exporters for identifying new items of exports and simultaneously expanding their areas of operations, keeping in view the revival from slowdown recessionary trends?\n",
            "\n",
            "Question No 6\n",
            "\n",
            "(a) the details of SEZs notified and given in principle approval in the country till October, 2009, State-wise; (b) whether it is a fact that many companies are not evincing interest to pursue their projects and submitted applications for denotifying the approved SEZs and also converting IT SEZs into other SEZs; (c) if so, the State-wise details of the applications received so far for denotifying and conversion; (d) the details of land acquired so after notification, for SEZs in the country, with a particular reference to Andhra Pradesh; and (e) the details of SEZs which have acquired land but failed to develop or take up works in the SEZ, SEZ-wise and State-wise?\n",
            "\n",
            "Question No 7\n",
            "\n",
            "(a) whether India and Russia have agreed and signed trade targeted to reach at $20 billion by 2015; (b) whether both sides call for diversification of trade into high technology areas; (c) whether India is one of very few countries with whom Russian trade is growing rather than declining; and (d) if so, the details of decisions taken, strategy adopted to improve trade between two countries?\n",
            "\n",
            "Question No 8\n",
            "\n",
            "(a) whether it is a fact that Special Economic Zone projects, launched in Maharashtra, which were to act as major engines of growth in exports, have not made any progress; (b) if so, the details of these projects, the reasons for delay in implementation and their present status; (c) the evaluation of the performance of each of the Export Processing Zones converted into Special Economic Zones; and (d) the fresh initiatives taken to accelerate the progress of SEZs in Maharashtra?\n",
            "\n",
            "Question No 9\n",
            "\n",
            "to answer to Starred Question 97 given in the Rajya Sabha on 25 November, 2009 and state: (a) the details of the `Head` and authority under which STC and MMTC have disbursed and donated NSUI, the student wing of Indian National Congress; (b) whether PSUs like STC and MMTC are authorized to donate public money to organizations like NSUI; (c) if so, the details thereof; (d) if not, whether it is not misuse of public money; (e) whether concurrence of Minister of Commerce was taken before disbursing and donating the public money to student wing of Congress; and (f) if so, the details thereof and if not, the reasons therefor?\n",
            "\n",
            "Question No 10\n",
            "\n",
            "(a) the number of anti-dumping cases registered by the Director-General of Anti-Dumping during the last five years, year-wise and country-wise; (b) the number of cases in which antidumping investigations have been completed and recommendations submitted to Government during the last five years, year-wise and country-wise; and (c) the measures Government has taken on the recommendations of the DGAD in the above cases?\n",
            "\n",
            "0      (a) whether Government is aware that there is ...\n",
            "1      (a) whether in order to capitalize on the lull...\n",
            "2      (a) whether the Chinese businessmen packed of ...\n",
            "3      to answer to Starred Question 97 given in the ...\n",
            "4      (a) the envisaged export earning targets for t...\n",
            "                             ...                        \n",
            "266    (a) whether going by production of steel in co...\n",
            "267    (a) whether the country has nearly 2000 archai...\n",
            "268    (a) whether there are any orders under which l...\n",
            "269    (a) whether Government is attending the Intern...\n",
            "270    (a) whether it is a fact that the income tax s...\n",
            "Name: question_description, Length: 271, dtype: object\n"
          ],
          "name": "stdout"
        }
      ]
    },
    {
      "cell_type": "code",
      "metadata": {
        "id": "uGg2KUJGcWDd",
        "colab_type": "code",
        "colab": {
          "base_uri": "https://localhost:8080/",
          "height": 731
        },
        "outputId": "081f0911-b7b6-45a4-d057-63ba250aab0b"
      },
      "source": [
        "answers=data['answer']\n",
        "for i in range(10):\n",
        "    print('Answer No '+str(i+1)+'\\n')\n",
        "    print(answers[i]+'\\n')"
      ],
      "execution_count": 4,
      "outputs": [
        {
          "output_type": "stream",
          "text": [
            "Answer No 1\n",
            "\n",
            "MINISTER OF COMMERCE AND INDUSTRY (SHRI ANAND SHARMA) a) to d): A Statement is laid on the Table of the House. STATEMENT REFERRED TO IN REPLY TO PARTS (a) TO (d) OF RAJYA SABHA STARRED QUESTION NO. 396 FOR ANSWER ON 16TH DECEMBER, 2009 REGARDING �<U+0080><U+009C>SPURT IN PRICES OF GOLD �<U+0080>� (a) Yes, Sir. (b) Increase in prices of gold in the international markets, seasonal demand by major consumers and investment buying are the major factors known to affect the prices of gold. (c) & (d): The gold prices are broadly driven by the international gold prices. Government has minimal control over them.\n",
            "\n",
            "Answer No 2\n",
            "\n",
            "MINISTER OF COMMERCE AND INDUSTRY (SHRI ANAND SHARMA) (a) to (c) At present, thirteen Indian Missions are functioning in the Latin America region. Ten posts of Marketing Assistants have been provided in nine Indian missions of the said region to exclusively look after the trade related matters and to respond queries of exporters and importers interested to undertake business with Latin America and vice versa. FOCUS : LAC Programme of Government is in force envisaging incentives / promotional measures for supporting and encouraging Indian exporters and companies to boost our trade to Latin America . Details of FOCUS: LAC programme are available on website of the Department. As a result, trade between India and Latin America has been showing upward trend. Bilateral trade between India and Latin America increased from US $ 4021.51 million in 2004-05 to US $ 15,752.47 million in 2008-09.\n",
            "\n",
            "Answer No 3\n",
            "\n",
            "MINISTER OF COMMERCE AND INDUSTRY ( SHRI ANAND SHARMA) (a) Ninety companies from China participated in the India International Trade Fair, 2009 held from 14 �<U+0080><U+0093> 27 November 2009 at Pragati Maidan, New Delhi. While eighty five of these participants left the fair on 19.11.2009, the remaining five participants remained till the end of the Fair. (b) No such incident has come to the notice of the Government/ITPO. (c) For India International Trade Fair, 2009, China was given the �<U+0080><U+0098>Focus Country�<U+0080><U+0099> status. (d) The Chinese participating teams have been requested by ITPO that they should stay for the full duration of the fair in their next participation.\n",
            "\n",
            "Answer No 4\n",
            "\n",
            "MINISTER OF COMMERCE AND INDUSTRY ( SHRI ANAND SHARMA ) (a)to(c) MMTC has contributed to certain student related bodies such as Faculty of Management Studies Alumni Association, Amity International Business School, Department of Management Studies �<U+0080><U+0093> IIT Delhi, St. Joseph School, ICWAI National Convention, Akshay Chhibber Memorial Tournament and NSUI. Similarly, STC has contributed to Institute of Economic Studies, Sri Venkateswara College, IIFT Symposium, Delhi School of Economics, Institute of Marketing and Management, Department of Management Studies �<U+0080><U+0093> IIT Delhi, Department of Commerce �<U+0080><U+0093> Delhi University and Delhi University Students Union (DUSU) and NSUI.\n",
            "\n",
            "Answer No 5\n",
            "\n",
            "MINISTER OF COMMERCE AND INDUSTRY ( SHRI ANAND SHARMA) a) to c): During the announcement of Annual Supplement of the Foreign Trade Policy, 2008-09 on 11.04.2008. Government envisaged merchandise export target of US $ 200 Billion for the year 2008-09 which was revised to US $ 175 Billion in the wake of Global economic slowdown. The achievement was about US$ 185 Billion. The Government and RBI closely monitor the economic developments in the country and internationally on a continuous basis, and need based measures are taken, from time to time, keeping in view the financial and overall economic implications. To arrest the decline in exports, the Government/RBI announced stimulus pacakages, including the announcements made in the Budget 2009-10, and in the Foreign Trade Policy(FTP) 2009-14 to provide support.\n",
            "\n",
            "Answer No 6\n",
            "\n",
            "MINISTER OF COMMERCE AND INDUSTRY ( SHRI ANAND SHARMA ) (a) : In addition to seven Central Government SEZs and 12 State/Private Sector SEZs set up prior to the enactment of SEZ Act, 2005, formal approval has been accorded to 570 proposals out of which 346 SEZs have been notified. In principle approval has been accorded to 147 proposals. A statement containing State-wise break-up of SEZs is placed at Annexure. (b) and (c): Requests for de-notification by the developers have been received from 12 SEZs located in the States/UT of Delhi, Orissa, Gujarat, West Bengal, Haryana Maharashtra, Tamil Nadu and Andhra Pradesh out of which nine have been approved by the Board of Approval. The final denotification is allowed only on refund of duties/ benefits, if any, availed by the Developer. No Case of conversion from IT SEZ to other sector has been approved. (d): Land is a State subject. Land for SEZs is procured as per the policy and procedures of the respective State Governments. As per the current policy, the Board of Approval does not approve any SEZs, where the State Governments have carried out or propose to carry out compulsory acquisition of land for such SEZs after 5th April, 2007. The total land involved for 346 notified SEZs is 41,090.31 hectares out of which 10253.98 hectares land is for the SEZs notified in Andhra Pradesh. (e): In terms of SEZ Rules, validity of approval is for a period of three years within which time effective steps are to be taken by the developer to implement the approved proposal. On a request received from the Developer the Board of Approval can extend the validity period upto two years.\n",
            "\n",
            "Answer No 7\n",
            "\n",
            "MINISTER OF COMMERCE AND INDUSTRY ( SHRI ANAND SHARMA) a) to d): The bilateral trade between India and Russia has been growing. During the 15th session of the India-Russia Inter-Governmental Commission on Trade, Economic, Scientific, Technological and Cultural Cooperation held in Moscow on 21st October 2009, both the countries took note of the positive trends in bilateral trade and inter-alia, it was decided to achieve a bilateral trade target of US$ 20 billion by 2015. Both sides felt that this trade target could be achieved through diversification of the trade basket; focus on priority sectors such as energy, IT and Pharmaceuticals etc; and through intensification of business-to-business contacts.\n",
            "\n",
            "Answer No 8\n",
            "\n",
            "MINISTER OF COMMERCE AND INDUSTRY ( SHRI ANAND SHARMA ) (a): In addition to the SEEPZ SEZ Mumbai, 109 proposals from Maharashtra have been accorded formal approval out of which 58 have been notified. 15 SEZs are already exporting. (b) and (c): In terms of SEZ Act, 2005 read with the rules framed thereunder, validity of approval is for a period of three years within which time effective steps are to be taken by the developer to implement the approved proposal. On a request received from the Developer the Board of Approval can extend the validity period upto two years. Further, SEZ units are required to submit Annual Performance Report and Developers are required to submit Quarterly Report on their performance. These are scrutinized/ monitored by the Development Commissioners of the concerned SEZs. (d): Setting up of Single Window Clearance Mechanism, simplification of rules and procedures, according infrastructure status to SEZs, facility of External Commercial Borrowing (ECB) to Developers under the approval route etc. are some of the steps taken to accelerate the progress of SEZs.\n",
            "\n",
            "Answer No 9\n",
            "\n",
            "MINISTER OF COMMERCE AND INDUSTRY ( SHRI ANAND SHARMA ) (a)to(f) MMTC has contributed to certain student related bodies such as Faculty of Management Studies Alumni Association, Amity International Business School, Department of Management Studies �<U+0080><U+0093> IIT Delhi, St. Joseph School, ICWAI National Convention, Akshay Chhibber Memorial Tournament and NSUI. Similarly, STC has contributed to Institute of Economic Studies, Sri Venkateswara College, IIFT Symposium, Delhi School of Economics, Institute of Marketing and Management, Department of Management Studies �<U+0080><U+0093> IIT Delhi, Department of Commerce �<U+0080><U+0093> Delhi University and Delhi University Students Union (DUSU) and NSUI. There was no requirement to obtain the approval of Minister of Commerce as the contributions were authorised by the competent authority in the respective organisations.\n",
            "\n",
            "Answer No 10\n",
            "\n",
            "MINISTER OF COMMERCE AND INDUSTRY ( SHRI ANAND SHARMA ) (a) to (c) : The number of anti-dumping cases initiated by the Directorate General of Anti-Dumping & Allied Duties in the last five years ( i.e. from 1.4.2004 till 10.12.2009) \n",
            "\n"
          ],
          "name": "stdout"
        }
      ]
    },
    {
      "cell_type": "code",
      "metadata": {
        "id": "3zhdSNiMcWDi",
        "colab_type": "code",
        "colab": {
          "base_uri": "https://localhost:8080/",
          "height": 711
        },
        "outputId": "180028d9-7ef0-4aa4-e00c-bd46fb033eb4"
      },
      "source": [
        "#titles\n",
        "titles=data['question_title']\n",
        "for i in range(10):\n",
        "    print('Title No '+str(i+1)+'\\n')\n",
        "    print(titles[i]+'\\n')"
      ],
      "execution_count": 5,
      "outputs": [
        {
          "output_type": "stream",
          "text": [
            "Title No 1\n",
            "\n",
            "SPURT IN PRICES OF GOLD .\n",
            "\n",
            "Title No 2\n",
            "\n",
            "OPENING OF TRADE CENTRES IN LATIN AMERICAN COUNTRIES .\n",
            "\n",
            "Title No 3\n",
            "\n",
            "EARLY EXIT OF CHINESE BUSINESSMEN FROM TRADE FAIR .\n",
            "\n",
            "Title No 4\n",
            "\n",
            "DONATION BY STC AND MMTC TO STUDENT WINGS OF POLITICAL PARTIES .\n",
            "\n",
            "Title No 5\n",
            "\n",
            "ENVISAGED EXPORT EARNING TARGETS .\n",
            "\n",
            "Title No 6\n",
            "\n",
            "REQUESTS FOR DENOTIFYING APPROVED SEZS .\n",
            "\n",
            "Title No 7\n",
            "\n",
            "TRADE BETWEEN INDIA AND RUSSIA .\n",
            "\n",
            "Title No 8\n",
            "\n",
            "SEZS IN MAHARASHTRA .\n",
            "\n",
            "Title No 9\n",
            "\n",
            "DONATION BY STC MMTC TO NSUI .\n",
            "\n",
            "Title No 10\n",
            "\n",
            "ANTI DUMPING CASES REGISTERED BY DGAD .\n",
            "\n"
          ],
          "name": "stdout"
        }
      ]
    },
    {
      "cell_type": "markdown",
      "metadata": {
        "id": "RBVfAuepcWDm",
        "colab_type": "text"
      },
      "source": [
        "## Step 1: Creating a cosine similarity calculator\n",
        "\n",
        "This helps in calculating similarity between two sentences. Since we are planning to take a) Title b) Question as input from the user, using the 'Title' we will first try to get the relevant rows to search through.\n",
        "\n",
        "![title](img/step1.png)"
      ]
    },
    {
      "cell_type": "code",
      "metadata": {
        "id": "UGjCAPZbcWDn",
        "colab_type": "code",
        "colab": {}
      },
      "source": [
        "#Function to find similarity between two strings that are converted into vectors\n",
        "WORD = re.compile(r\"\\w+\")\n",
        "\n",
        "def get_cosine(vec1, vec2):\n",
        "    intersection = set(vec1.keys()) & set(vec2.keys())\n",
        "    numerator = sum([vec1[x] * vec2[x] for x in intersection])\n",
        "\n",
        "    sum1 = sum([vec1[x] ** 2 for x in list(vec1.keys())])\n",
        "    sum2 = sum([vec2[x] ** 2 for x in list(vec2.keys())])\n",
        "    denominator = math.sqrt(sum1) * math.sqrt(sum2)\n",
        "\n",
        "    if not denominator:\n",
        "        return 0.0\n",
        "    else:\n",
        "        return float(numerator) / denominator\n",
        "\n",
        "#Word Vectorization step (This has to be improved)\n",
        "def text_to_vector(text):\n",
        "    words = WORD.findall(text)\n",
        "    return Counter(words)"
      ],
      "execution_count": 6,
      "outputs": []
    },
    {
      "cell_type": "code",
      "metadata": {
        "id": "jUWoFP0mcWDr",
        "colab_type": "code",
        "colab": {
          "base_uri": "https://localhost:8080/",
          "height": 35
        },
        "outputId": "95c114cb-27df-443f-9709-c7c3ea3c979b"
      },
      "source": [
        "#Test case\n",
        "text1 = \"This is a foo bar sentence .\"\n",
        "text2 = \"This sentence is similar to a foo bar sentence .\"\n",
        "\n",
        "vector1 = text_to_vector(text1)\n",
        "vector2 = text_to_vector(text2)\n",
        "\n",
        "cosine = get_cosine(vector1, vector2)\n",
        "\n",
        "print(\"Cosine:\", cosine)"
      ],
      "execution_count": 7,
      "outputs": [
        {
          "output_type": "stream",
          "text": [
            "Cosine: 0.8616404368553293\n"
          ],
          "name": "stdout"
        }
      ]
    },
    {
      "cell_type": "code",
      "metadata": {
        "id": "rN0zU2NUcWDy",
        "colab_type": "code",
        "colab": {}
      },
      "source": [
        "#Function to get top 100 relevant rows to search\n",
        "def get_relevant_indices(query,title_list):\n",
        "    \n",
        "    cosine_list=np.empty(len(title_list))\n",
        "    query_vector=text_to_vector(query)\n",
        "    for i in range(len(title_list)):\n",
        "        title_vector_i=text_to_vector(title_list[i])\n",
        "        cosine_val_i=get_cosine(query_vector,title_vector_i)\n",
        "        cosine_list[i]=cosine_val_i\n",
        "    \n",
        "    relevant_indices=cosine_list.argsort()[-10:][::-1]\n",
        "    return relevant_indices"
      ],
      "execution_count": 8,
      "outputs": []
    },
    {
      "cell_type": "code",
      "metadata": {
        "id": "B7LtoigCcWD2",
        "colab_type": "code",
        "colab": {}
      },
      "source": [
        "#Function to get relevant titles\n",
        "def get_relevant_titles(query):\n",
        "    titles=data['question_title'].values.tolist()\n",
        "    relevant_indices=get_relevant_indices(query,titles)\n",
        "    relevant_titles=[]\n",
        "    for i in range(len(relevant_indices)):\n",
        "        relevant_titles.append(titles[relevant_indices[i]])\n",
        "    \n",
        "    relevant_titles_df=pd.DataFrame({'Indices':relevant_indices,\n",
        "                                    'Titles':relevant_titles})\n",
        "    return relevant_titles_df"
      ],
      "execution_count": 9,
      "outputs": []
    },
    {
      "cell_type": "code",
      "metadata": {
        "id": "5RDuMSVXcWD6",
        "colab_type": "code",
        "colab": {
          "base_uri": "https://localhost:8080/",
          "height": 503
        },
        "outputId": "7de873a3-b2a1-4312-d3e8-f3468ef45dd8"
      },
      "source": [
        "#Test Case\n",
        "relevant_titles=get_relevant_titles(\"Selling stakes of PSEs\")\n",
        "print(relevant_titles)\n",
        "\n",
        "print('\\n\\n For better visualization')\n",
        "print('\\n\\nRelevant Indices: \\n')\n",
        "print(relevant_titles['Indices'].values)\n",
        "\n",
        "print('\\nRelevant Titles:\\n')\n",
        "print(relevant_titles['Titles'].values)\n"
      ],
      "execution_count": 10,
      "outputs": [
        {
          "output_type": "stream",
          "text": [
            "   Indices                                             Titles\n",
            "0      177                             Disinvestment of NALCO\n",
            "1      270                    INCOME TAX SLABS FOR INDUSTRIES\n",
            "2       86                      FAKE CURRENCY IN ATM OF BANKS\n",
            "3       87                            EMI CALCULATION METHODS\n",
            "4       88  SEPARATION OF LENDING BUSINESS FROM INVESTMENT...\n",
            "5       89                      SCRAPPING OF INSURANCE AGENTS\n",
            "6       90                   FAKE CURRENCY RACKETS AT KOLKATA\n",
            "7       91                           SELLING STAKES OF PSES .\n",
            "8       92                           DISCUSSION AT G SUMMIT .\n",
            "9      134                            PATTERN OF RURAL CREDIT\n",
            "\n",
            "\n",
            " For better visualization\n",
            "\n",
            "\n",
            "Relevant Indices: \n",
            "\n",
            "[177 270  86  87  88  89  90  91  92 134]\n",
            "\n",
            "Relevant Titles:\n",
            "\n",
            "['Disinvestment of NALCO' 'INCOME TAX SLABS FOR INDUSTRIES'\n",
            " 'FAKE CURRENCY IN ATM OF BANKS' 'EMI CALCULATION METHODS'\n",
            " 'SEPARATION OF LENDING BUSINESS FROM INVESTMENT BUSINESS BY BANKS .'\n",
            " 'SCRAPPING OF INSURANCE AGENTS' 'FAKE CURRENCY RACKETS AT KOLKATA'\n",
            " 'SELLING STAKES OF PSES .' 'DISCUSSION AT G SUMMIT .'\n",
            " 'PATTERN OF RURAL CREDIT']\n"
          ],
          "name": "stdout"
        }
      ]
    },
    {
      "cell_type": "markdown",
      "metadata": {
        "id": "nYmOHMhLcWD-",
        "colab_type": "text"
      },
      "source": [
        "## Step 2: Using BERT to find top ten answers to the question\n",
        "\n",
        "The following are the steps involved in this module:\n",
        "\n",
        "* Importing the BERT model that was pretrained on Stanford Question Answering Dataset (SQuAD) [ Not sure whether this pretrained version will suffice our application. Need to do some research !! ] \n",
        "\n",
        "* Fetching top 10 relevant rows to search and feeding it into the model\n",
        "\n",
        "* Improving the performance of BERT using Transfer learning (pretty hectic task as of now !!)"
      ]
    },
    {
      "cell_type": "code",
      "metadata": {
        "scrolled": true,
        "id": "F6fKIfTucWD_",
        "colab_type": "code",
        "colab": {
          "base_uri": "https://localhost:8080/",
          "height": 124
        },
        "outputId": "dc31d079-004f-4505-b810-77518659fa93"
      },
      "source": [
        "#Importing the BERT pretrained on SQuAD\n",
        "\n",
        "#Model\n",
        "model = BertForQuestionAnswering.from_pretrained('bert-base-uncased')\n",
        "\n",
        "#Tokenizer\n",
        "tokenizer = BertTokenizer.from_pretrained('bert-base-uncased')\n"
      ],
      "execution_count": 26,
      "outputs": [
        {
          "output_type": "stream",
          "text": [
            "Some weights of the model checkpoint at bert-base-uncased were not used when initializing BertForQuestionAnswering: ['cls.predictions.bias', 'cls.predictions.transform.dense.weight', 'cls.predictions.transform.dense.bias', 'cls.predictions.decoder.weight', 'cls.seq_relationship.weight', 'cls.seq_relationship.bias', 'cls.predictions.transform.LayerNorm.weight', 'cls.predictions.transform.LayerNorm.bias']\n",
            "- This IS expected if you are initializing BertForQuestionAnswering from the checkpoint of a model trained on another task or with another architecture (e.g. initializing a BertForSequenceClassification model from a BertForPretraining model).\n",
            "- This IS NOT expected if you are initializing BertForQuestionAnswering from the checkpoint of a model that you expect to be exactly identical (initializing a BertForSequenceClassification model from a BertForSequenceClassification model).\n",
            "Some weights of BertForQuestionAnswering were not initialized from the model checkpoint at bert-base-uncased and are newly initialized: ['qa_outputs.weight', 'qa_outputs.bias']\n",
            "You should probably TRAIN this model on a down-stream task to be able to use it for predictions and inference.\n"
          ],
          "name": "stderr"
        }
      ]
    },
    {
      "cell_type": "code",
      "metadata": {
        "id": "NZV0g7mIcWEF",
        "colab_type": "code",
        "colab": {}
      },
      "source": [
        "#Answer prediction function\n",
        "def get_answer(query,paragraph):\n",
        "    \n",
        "    #Don't worry much about these lines. These will just convert the input\n",
        "    #into a form that the BERT model can accept\n",
        "    \n",
        "    encoding = tokenizer.encode_plus(text=query,text_pair=paragraph)\n",
        "    inputs = encoding['input_ids']  #Token embeddings\n",
        "    sentence_embedding = encoding['token_type_ids']  #Segment embeddings\n",
        "    tokens = tokenizer.convert_ids_to_tokens(inputs) #input tokens\n",
        "    \n",
        "    #Feeding the input into the model\n",
        "    start_scores, end_scores = model(input_ids=torch.tensor([inputs]), token_type_ids=torch.tensor([sentence_embedding]))\n",
        "    \n",
        "    #Bert assigns scores to each token. The tokens that have the highest\n",
        "    #Start and end scores are likely to be our starting and ending of the\n",
        "    #answer. Below lines of code will do that. For better understanding, refer\n",
        "    #the functioning of BERT online\n",
        "    \n",
        "    start_index = torch.argmax(start_scores)\n",
        "    end_index = torch.argmax(end_scores)\n",
        "    answer = ' '.join(tokens[start_index:end_index+1])\n",
        "    \n",
        "    #BERT uses word peice tokenization. i.e. playing = play##ing. To make our\n",
        "    #output look neat, let's removes those ##\n",
        "    \n",
        "    corrected_answer = ''\n",
        "    for word in answer.split():\n",
        "        #If it's a subword token\n",
        "        if word[0:2] == '##':\n",
        "            corrected_answer += word[2:]\n",
        "        else:\n",
        "            corrected_answer += ' ' + word\n",
        "    \n",
        "    return corrected_answer"
      ],
      "execution_count": 29,
      "outputs": []
    },
    {
      "cell_type": "code",
      "metadata": {
        "id": "fc3RP4WwcWEJ",
        "colab_type": "code",
        "colab": {
          "base_uri": "https://localhost:8080/",
          "height": 55
        },
        "outputId": "533b6256-ac9e-43e5-8bfc-ba6883c46d73"
      },
      "source": [
        "#Test Case\n",
        "answer=get_answer(\"whether it is a fact that Special Economic Zone projects, launched in Maharashtra, which were to act as major engines of growth in exports, have not made any progress\",\"In addition to the SEEPZ SEZ Mumbai, 109 proposals from Maharashtra have been accorded formal approval out of which 58 have been notified. 15 SEZs are already exporting. (b) and (c): In terms of SEZ Act, 2005 read with the rules framed thereunder, validity of approval is for a period of three years within which time effective steps are to be taken by the developer to implement the approved proposal. On a request received from the Developer the Board of Approval can extend the validity period upto two years. Further, SEZ units are required to submit Annual Performance Report and Developers are required to submit Quarterly Report on their performance. These are scrutinized/ monitored by the Development Commissioners of the concerned SEZs. (d): Setting up of Single Window Clearance Mechanism, simplification of rules and procedures, according infrastructure status to SEZs, facility of External Commercial Borrowing (ECB) to Developers under the approval route etc. are some of the steps taken to accelerate the progress of SEZs.\")\n",
        "print(answer)"
      ],
      "execution_count": 31,
      "outputs": [
        {
          "output_type": "stream",
          "text": [
            " whether it is a fact that special economic zone projects , launched in maharashtra , which were to act as major engines of growth in exports , have not made any progress [SEP] in addition to the seepz sez mumbai , 109 proposals from maharashtra have been accorded formal approval out of which 58 have been notified . 15 sezs are already exporting . ( b ) and ( c ) : in terms of sez act , 2005 read with the rules framed thereunder , validity of approval is for a period of three years within which time effective steps are to be taken by the developer to implement the approved proposal . on a request received from the developer the board of approval can extend the validity period upto two years . further , sez units are required to submit annual performance report and developers are required to submit quarterly report on their performance . these are scrutinized /\n"
          ],
          "name": "stdout"
        }
      ]
    },
    {
      "cell_type": "code",
      "metadata": {
        "id": "WpePm5YGcWEN",
        "colab_type": "code",
        "colab": {}
      },
      "source": [
        "# Final model (Error present need to debug)\n",
        "\n",
        "def question_answer(query,title,answers):\n",
        "    \n",
        "    #find top 10 relevant titles that are similar to the input titles\n",
        "    \n",
        "    relevant_rows=get_relevant_titles(title)\n",
        "    relevant_indices=relevant_rows['Indices'].values.tolist()\n",
        "    relevant_answers=[]\n",
        "    for i in relevant_indices:\n",
        "        paragraph=answers[i]\n",
        "        answer_i=get_answer(query,paragraph)\n",
        "        relevant_answers.append(answer_i)\n",
        "    \n",
        "    return relevant_answers,relevant_rows\n",
        "    "
      ],
      "execution_count": 32,
      "outputs": []
    },
    {
      "cell_type": "code",
      "metadata": {
        "id": "kRrGoHlGcWER",
        "colab_type": "code",
        "colab": {
          "base_uri": "https://localhost:8080/",
          "height": 435
        },
        "outputId": "9360f484-b2ca-4295-ccd4-cdbe704a94d8"
      },
      "source": [
        "#Test case\n",
        "top_ten=question_answer(\"whether corresponding targets were achieved\",\"ENVISAGED EXPORT EARNING TARGETS\",data)\n",
        "print(top_ten)"
      ],
      "execution_count": 27,
      "outputs": [
        {
          "output_type": "stream",
          "text": [
            "Token indices sequence length is longer than the specified maximum sequence length for this model (5 > 512). Running this sequence through the model will result in indexing errors\n"
          ],
          "name": "stderr"
        },
        {
          "output_type": "error",
          "ename": "IndexError",
          "evalue": "ignored",
          "traceback": [
            "\u001b[0;31m---------------------------------------------------------------------------\u001b[0m",
            "\u001b[0;31mIndexError\u001b[0m                                Traceback (most recent call last)",
            "\u001b[0;32m<ipython-input-27-b521692bf7c5>\u001b[0m in \u001b[0;36m<module>\u001b[0;34m()\u001b[0m\n\u001b[1;32m      1\u001b[0m \u001b[0;31m#Test case\u001b[0m\u001b[0;34m\u001b[0m\u001b[0;34m\u001b[0m\u001b[0;34m\u001b[0m\u001b[0m\n\u001b[0;32m----> 2\u001b[0;31m \u001b[0mtop_ten\u001b[0m\u001b[0;34m=\u001b[0m\u001b[0mquestion_answer\u001b[0m\u001b[0;34m(\u001b[0m\u001b[0;34m\"whether corresponding targets were achieved\"\u001b[0m\u001b[0;34m,\u001b[0m\u001b[0;34m\"ENVISAGED EXPORT EARNING TARGETS\"\u001b[0m\u001b[0;34m,\u001b[0m\u001b[0manswers\u001b[0m\u001b[0;34m)\u001b[0m\u001b[0;34m\u001b[0m\u001b[0;34m\u001b[0m\u001b[0m\n\u001b[0m\u001b[1;32m      3\u001b[0m \u001b[0mprint\u001b[0m\u001b[0;34m(\u001b[0m\u001b[0mtop_ten\u001b[0m\u001b[0;34m)\u001b[0m\u001b[0;34m\u001b[0m\u001b[0;34m\u001b[0m\u001b[0m\n",
            "\u001b[0;32m<ipython-input-25-a067bcbe2b86>\u001b[0m in \u001b[0;36mquestion_answer\u001b[0;34m(query, title, answers)\u001b[0m\n\u001b[1;32m     10\u001b[0m     \u001b[0;32mfor\u001b[0m \u001b[0mi\u001b[0m \u001b[0;32min\u001b[0m \u001b[0mrelevant_indices\u001b[0m\u001b[0;34m:\u001b[0m\u001b[0;34m\u001b[0m\u001b[0;34m\u001b[0m\u001b[0m\n\u001b[1;32m     11\u001b[0m         \u001b[0mparagraph\u001b[0m\u001b[0;34m=\u001b[0m\u001b[0manswers\u001b[0m\u001b[0;34m[\u001b[0m\u001b[0mi\u001b[0m\u001b[0;34m]\u001b[0m\u001b[0;34m\u001b[0m\u001b[0;34m\u001b[0m\u001b[0m\n\u001b[0;32m---> 12\u001b[0;31m         \u001b[0manswer_i\u001b[0m\u001b[0;34m=\u001b[0m\u001b[0mget_answer\u001b[0m\u001b[0;34m(\u001b[0m\u001b[0mquery\u001b[0m\u001b[0;34m,\u001b[0m\u001b[0mparagraph\u001b[0m\u001b[0;34m)\u001b[0m\u001b[0;34m\u001b[0m\u001b[0;34m\u001b[0m\u001b[0m\n\u001b[0m\u001b[1;32m     13\u001b[0m         \u001b[0mrelevant_answers\u001b[0m\u001b[0;34m.\u001b[0m\u001b[0mappend\u001b[0m\u001b[0;34m(\u001b[0m\u001b[0manswer_i\u001b[0m\u001b[0;34m)\u001b[0m\u001b[0;34m\u001b[0m\u001b[0;34m\u001b[0m\u001b[0m\n\u001b[1;32m     14\u001b[0m \u001b[0;34m\u001b[0m\u001b[0m\n",
            "\u001b[0;32m<ipython-input-18-1e37b5fff38c>\u001b[0m in \u001b[0;36mget_answer\u001b[0;34m(query, paragraph)\u001b[0m\n\u001b[1;32m     11\u001b[0m \u001b[0;34m\u001b[0m\u001b[0m\n\u001b[1;32m     12\u001b[0m     \u001b[0;31m#Feeding the input into the model\u001b[0m\u001b[0;34m\u001b[0m\u001b[0;34m\u001b[0m\u001b[0;34m\u001b[0m\u001b[0m\n\u001b[0;32m---> 13\u001b[0;31m     \u001b[0mstart_scores\u001b[0m\u001b[0;34m,\u001b[0m \u001b[0mend_scores\u001b[0m \u001b[0;34m=\u001b[0m \u001b[0mmodel\u001b[0m\u001b[0;34m(\u001b[0m\u001b[0minput_ids\u001b[0m\u001b[0;34m=\u001b[0m\u001b[0mtorch\u001b[0m\u001b[0;34m.\u001b[0m\u001b[0mtensor\u001b[0m\u001b[0;34m(\u001b[0m\u001b[0;34m[\u001b[0m\u001b[0minputs\u001b[0m\u001b[0;34m]\u001b[0m\u001b[0;34m)\u001b[0m\u001b[0;34m,\u001b[0m \u001b[0mtoken_type_ids\u001b[0m\u001b[0;34m=\u001b[0m\u001b[0mtorch\u001b[0m\u001b[0;34m.\u001b[0m\u001b[0mtensor\u001b[0m\u001b[0;34m(\u001b[0m\u001b[0;34m[\u001b[0m\u001b[0msentence_embedding\u001b[0m\u001b[0;34m]\u001b[0m\u001b[0;34m)\u001b[0m\u001b[0;34m)\u001b[0m\u001b[0;34m\u001b[0m\u001b[0;34m\u001b[0m\u001b[0m\n\u001b[0m\u001b[1;32m     14\u001b[0m \u001b[0;34m\u001b[0m\u001b[0m\n\u001b[1;32m     15\u001b[0m     \u001b[0;31m#Bert assigns scores to each token. The tokens that have the highest\u001b[0m\u001b[0;34m\u001b[0m\u001b[0;34m\u001b[0m\u001b[0;34m\u001b[0m\u001b[0m\n",
            "\u001b[0;32m/usr/local/lib/python3.6/dist-packages/torch/nn/modules/module.py\u001b[0m in \u001b[0;36m_call_impl\u001b[0;34m(self, *input, **kwargs)\u001b[0m\n\u001b[1;32m    720\u001b[0m             \u001b[0mresult\u001b[0m \u001b[0;34m=\u001b[0m \u001b[0mself\u001b[0m\u001b[0;34m.\u001b[0m\u001b[0m_slow_forward\u001b[0m\u001b[0;34m(\u001b[0m\u001b[0;34m*\u001b[0m\u001b[0minput\u001b[0m\u001b[0;34m,\u001b[0m \u001b[0;34m**\u001b[0m\u001b[0mkwargs\u001b[0m\u001b[0;34m)\u001b[0m\u001b[0;34m\u001b[0m\u001b[0;34m\u001b[0m\u001b[0m\n\u001b[1;32m    721\u001b[0m         \u001b[0;32melse\u001b[0m\u001b[0;34m:\u001b[0m\u001b[0;34m\u001b[0m\u001b[0;34m\u001b[0m\u001b[0m\n\u001b[0;32m--> 722\u001b[0;31m             \u001b[0mresult\u001b[0m \u001b[0;34m=\u001b[0m \u001b[0mself\u001b[0m\u001b[0;34m.\u001b[0m\u001b[0mforward\u001b[0m\u001b[0;34m(\u001b[0m\u001b[0;34m*\u001b[0m\u001b[0minput\u001b[0m\u001b[0;34m,\u001b[0m \u001b[0;34m**\u001b[0m\u001b[0mkwargs\u001b[0m\u001b[0;34m)\u001b[0m\u001b[0;34m\u001b[0m\u001b[0;34m\u001b[0m\u001b[0m\n\u001b[0m\u001b[1;32m    723\u001b[0m         for hook in itertools.chain(\n\u001b[1;32m    724\u001b[0m                 \u001b[0m_global_forward_hooks\u001b[0m\u001b[0;34m.\u001b[0m\u001b[0mvalues\u001b[0m\u001b[0;34m(\u001b[0m\u001b[0;34m)\u001b[0m\u001b[0;34m,\u001b[0m\u001b[0;34m\u001b[0m\u001b[0;34m\u001b[0m\u001b[0m\n",
            "\u001b[0;32m/usr/local/lib/python3.6/dist-packages/transformers/modeling_bert.py\u001b[0m in \u001b[0;36mforward\u001b[0;34m(self, input_ids, attention_mask, token_type_ids, position_ids, head_mask, inputs_embeds, start_positions, end_positions, output_attentions, output_hidden_states)\u001b[0m\n\u001b[1;32m   1539\u001b[0m             \u001b[0minputs_embeds\u001b[0m\u001b[0;34m=\u001b[0m\u001b[0minputs_embeds\u001b[0m\u001b[0;34m,\u001b[0m\u001b[0;34m\u001b[0m\u001b[0;34m\u001b[0m\u001b[0m\n\u001b[1;32m   1540\u001b[0m             \u001b[0moutput_attentions\u001b[0m\u001b[0;34m=\u001b[0m\u001b[0moutput_attentions\u001b[0m\u001b[0;34m,\u001b[0m\u001b[0;34m\u001b[0m\u001b[0;34m\u001b[0m\u001b[0m\n\u001b[0;32m-> 1541\u001b[0;31m             \u001b[0moutput_hidden_states\u001b[0m\u001b[0;34m=\u001b[0m\u001b[0moutput_hidden_states\u001b[0m\u001b[0;34m,\u001b[0m\u001b[0;34m\u001b[0m\u001b[0;34m\u001b[0m\u001b[0m\n\u001b[0m\u001b[1;32m   1542\u001b[0m         )\n\u001b[1;32m   1543\u001b[0m \u001b[0;34m\u001b[0m\u001b[0m\n",
            "\u001b[0;32m/usr/local/lib/python3.6/dist-packages/torch/nn/modules/module.py\u001b[0m in \u001b[0;36m_call_impl\u001b[0;34m(self, *input, **kwargs)\u001b[0m\n\u001b[1;32m    720\u001b[0m             \u001b[0mresult\u001b[0m \u001b[0;34m=\u001b[0m \u001b[0mself\u001b[0m\u001b[0;34m.\u001b[0m\u001b[0m_slow_forward\u001b[0m\u001b[0;34m(\u001b[0m\u001b[0;34m*\u001b[0m\u001b[0minput\u001b[0m\u001b[0;34m,\u001b[0m \u001b[0;34m**\u001b[0m\u001b[0mkwargs\u001b[0m\u001b[0;34m)\u001b[0m\u001b[0;34m\u001b[0m\u001b[0;34m\u001b[0m\u001b[0m\n\u001b[1;32m    721\u001b[0m         \u001b[0;32melse\u001b[0m\u001b[0;34m:\u001b[0m\u001b[0;34m\u001b[0m\u001b[0;34m\u001b[0m\u001b[0m\n\u001b[0;32m--> 722\u001b[0;31m             \u001b[0mresult\u001b[0m \u001b[0;34m=\u001b[0m \u001b[0mself\u001b[0m\u001b[0;34m.\u001b[0m\u001b[0mforward\u001b[0m\u001b[0;34m(\u001b[0m\u001b[0;34m*\u001b[0m\u001b[0minput\u001b[0m\u001b[0;34m,\u001b[0m \u001b[0;34m**\u001b[0m\u001b[0mkwargs\u001b[0m\u001b[0;34m)\u001b[0m\u001b[0;34m\u001b[0m\u001b[0;34m\u001b[0m\u001b[0m\n\u001b[0m\u001b[1;32m    723\u001b[0m         for hook in itertools.chain(\n\u001b[1;32m    724\u001b[0m                 \u001b[0m_global_forward_hooks\u001b[0m\u001b[0;34m.\u001b[0m\u001b[0mvalues\u001b[0m\u001b[0;34m(\u001b[0m\u001b[0;34m)\u001b[0m\u001b[0;34m,\u001b[0m\u001b[0;34m\u001b[0m\u001b[0;34m\u001b[0m\u001b[0m\n",
            "\u001b[0;32m/usr/local/lib/python3.6/dist-packages/transformers/modeling_bert.py\u001b[0m in \u001b[0;36mforward\u001b[0;34m(self, input_ids, attention_mask, token_type_ids, position_ids, head_mask, inputs_embeds, encoder_hidden_states, encoder_attention_mask, output_attentions, output_hidden_states)\u001b[0m\n\u001b[1;32m    751\u001b[0m \u001b[0;34m\u001b[0m\u001b[0m\n\u001b[1;32m    752\u001b[0m         embedding_output = self.embeddings(\n\u001b[0;32m--> 753\u001b[0;31m             \u001b[0minput_ids\u001b[0m\u001b[0;34m=\u001b[0m\u001b[0minput_ids\u001b[0m\u001b[0;34m,\u001b[0m \u001b[0mposition_ids\u001b[0m\u001b[0;34m=\u001b[0m\u001b[0mposition_ids\u001b[0m\u001b[0;34m,\u001b[0m \u001b[0mtoken_type_ids\u001b[0m\u001b[0;34m=\u001b[0m\u001b[0mtoken_type_ids\u001b[0m\u001b[0;34m,\u001b[0m \u001b[0minputs_embeds\u001b[0m\u001b[0;34m=\u001b[0m\u001b[0minputs_embeds\u001b[0m\u001b[0;34m\u001b[0m\u001b[0;34m\u001b[0m\u001b[0m\n\u001b[0m\u001b[1;32m    754\u001b[0m         )\n\u001b[1;32m    755\u001b[0m         encoder_outputs = self.encoder(\n",
            "\u001b[0;32m/usr/local/lib/python3.6/dist-packages/torch/nn/modules/module.py\u001b[0m in \u001b[0;36m_call_impl\u001b[0;34m(self, *input, **kwargs)\u001b[0m\n\u001b[1;32m    720\u001b[0m             \u001b[0mresult\u001b[0m \u001b[0;34m=\u001b[0m \u001b[0mself\u001b[0m\u001b[0;34m.\u001b[0m\u001b[0m_slow_forward\u001b[0m\u001b[0;34m(\u001b[0m\u001b[0;34m*\u001b[0m\u001b[0minput\u001b[0m\u001b[0;34m,\u001b[0m \u001b[0;34m**\u001b[0m\u001b[0mkwargs\u001b[0m\u001b[0;34m)\u001b[0m\u001b[0;34m\u001b[0m\u001b[0;34m\u001b[0m\u001b[0m\n\u001b[1;32m    721\u001b[0m         \u001b[0;32melse\u001b[0m\u001b[0;34m:\u001b[0m\u001b[0;34m\u001b[0m\u001b[0;34m\u001b[0m\u001b[0m\n\u001b[0;32m--> 722\u001b[0;31m             \u001b[0mresult\u001b[0m \u001b[0;34m=\u001b[0m \u001b[0mself\u001b[0m\u001b[0;34m.\u001b[0m\u001b[0mforward\u001b[0m\u001b[0;34m(\u001b[0m\u001b[0;34m*\u001b[0m\u001b[0minput\u001b[0m\u001b[0;34m,\u001b[0m \u001b[0;34m**\u001b[0m\u001b[0mkwargs\u001b[0m\u001b[0;34m)\u001b[0m\u001b[0;34m\u001b[0m\u001b[0;34m\u001b[0m\u001b[0m\n\u001b[0m\u001b[1;32m    723\u001b[0m         for hook in itertools.chain(\n\u001b[1;32m    724\u001b[0m                 \u001b[0m_global_forward_hooks\u001b[0m\u001b[0;34m.\u001b[0m\u001b[0mvalues\u001b[0m\u001b[0;34m(\u001b[0m\u001b[0;34m)\u001b[0m\u001b[0;34m,\u001b[0m\u001b[0;34m\u001b[0m\u001b[0;34m\u001b[0m\u001b[0m\n",
            "\u001b[0;32m/usr/local/lib/python3.6/dist-packages/transformers/modeling_bert.py\u001b[0m in \u001b[0;36mforward\u001b[0;34m(self, input_ids, token_type_ids, position_ids, inputs_embeds)\u001b[0m\n\u001b[1;32m    177\u001b[0m         \u001b[0;32mif\u001b[0m \u001b[0minputs_embeds\u001b[0m \u001b[0;32mis\u001b[0m \u001b[0;32mNone\u001b[0m\u001b[0;34m:\u001b[0m\u001b[0;34m\u001b[0m\u001b[0;34m\u001b[0m\u001b[0m\n\u001b[1;32m    178\u001b[0m             \u001b[0minputs_embeds\u001b[0m \u001b[0;34m=\u001b[0m \u001b[0mself\u001b[0m\u001b[0;34m.\u001b[0m\u001b[0mword_embeddings\u001b[0m\u001b[0;34m(\u001b[0m\u001b[0minput_ids\u001b[0m\u001b[0;34m)\u001b[0m\u001b[0;34m\u001b[0m\u001b[0;34m\u001b[0m\u001b[0m\n\u001b[0;32m--> 179\u001b[0;31m         \u001b[0mposition_embeddings\u001b[0m \u001b[0;34m=\u001b[0m \u001b[0mself\u001b[0m\u001b[0;34m.\u001b[0m\u001b[0mposition_embeddings\u001b[0m\u001b[0;34m(\u001b[0m\u001b[0mposition_ids\u001b[0m\u001b[0;34m)\u001b[0m\u001b[0;34m\u001b[0m\u001b[0;34m\u001b[0m\u001b[0m\n\u001b[0m\u001b[1;32m    180\u001b[0m         \u001b[0mtoken_type_embeddings\u001b[0m \u001b[0;34m=\u001b[0m \u001b[0mself\u001b[0m\u001b[0;34m.\u001b[0m\u001b[0mtoken_type_embeddings\u001b[0m\u001b[0;34m(\u001b[0m\u001b[0mtoken_type_ids\u001b[0m\u001b[0;34m)\u001b[0m\u001b[0;34m\u001b[0m\u001b[0;34m\u001b[0m\u001b[0m\n\u001b[1;32m    181\u001b[0m \u001b[0;34m\u001b[0m\u001b[0m\n",
            "\u001b[0;32m/usr/local/lib/python3.6/dist-packages/torch/nn/modules/module.py\u001b[0m in \u001b[0;36m_call_impl\u001b[0;34m(self, *input, **kwargs)\u001b[0m\n\u001b[1;32m    720\u001b[0m             \u001b[0mresult\u001b[0m \u001b[0;34m=\u001b[0m \u001b[0mself\u001b[0m\u001b[0;34m.\u001b[0m\u001b[0m_slow_forward\u001b[0m\u001b[0;34m(\u001b[0m\u001b[0;34m*\u001b[0m\u001b[0minput\u001b[0m\u001b[0;34m,\u001b[0m \u001b[0;34m**\u001b[0m\u001b[0mkwargs\u001b[0m\u001b[0;34m)\u001b[0m\u001b[0;34m\u001b[0m\u001b[0;34m\u001b[0m\u001b[0m\n\u001b[1;32m    721\u001b[0m         \u001b[0;32melse\u001b[0m\u001b[0;34m:\u001b[0m\u001b[0;34m\u001b[0m\u001b[0;34m\u001b[0m\u001b[0m\n\u001b[0;32m--> 722\u001b[0;31m             \u001b[0mresult\u001b[0m \u001b[0;34m=\u001b[0m \u001b[0mself\u001b[0m\u001b[0;34m.\u001b[0m\u001b[0mforward\u001b[0m\u001b[0;34m(\u001b[0m\u001b[0;34m*\u001b[0m\u001b[0minput\u001b[0m\u001b[0;34m,\u001b[0m \u001b[0;34m**\u001b[0m\u001b[0mkwargs\u001b[0m\u001b[0;34m)\u001b[0m\u001b[0;34m\u001b[0m\u001b[0;34m\u001b[0m\u001b[0m\n\u001b[0m\u001b[1;32m    723\u001b[0m         for hook in itertools.chain(\n\u001b[1;32m    724\u001b[0m                 \u001b[0m_global_forward_hooks\u001b[0m\u001b[0;34m.\u001b[0m\u001b[0mvalues\u001b[0m\u001b[0;34m(\u001b[0m\u001b[0;34m)\u001b[0m\u001b[0;34m,\u001b[0m\u001b[0;34m\u001b[0m\u001b[0;34m\u001b[0m\u001b[0m\n",
            "\u001b[0;32m/usr/local/lib/python3.6/dist-packages/torch/nn/modules/sparse.py\u001b[0m in \u001b[0;36mforward\u001b[0;34m(self, input)\u001b[0m\n\u001b[1;32m    124\u001b[0m         return F.embedding(\n\u001b[1;32m    125\u001b[0m             \u001b[0minput\u001b[0m\u001b[0;34m,\u001b[0m \u001b[0mself\u001b[0m\u001b[0;34m.\u001b[0m\u001b[0mweight\u001b[0m\u001b[0;34m,\u001b[0m \u001b[0mself\u001b[0m\u001b[0;34m.\u001b[0m\u001b[0mpadding_idx\u001b[0m\u001b[0;34m,\u001b[0m \u001b[0mself\u001b[0m\u001b[0;34m.\u001b[0m\u001b[0mmax_norm\u001b[0m\u001b[0;34m,\u001b[0m\u001b[0;34m\u001b[0m\u001b[0;34m\u001b[0m\u001b[0m\n\u001b[0;32m--> 126\u001b[0;31m             self.norm_type, self.scale_grad_by_freq, self.sparse)\n\u001b[0m\u001b[1;32m    127\u001b[0m \u001b[0;34m\u001b[0m\u001b[0m\n\u001b[1;32m    128\u001b[0m     \u001b[0;32mdef\u001b[0m \u001b[0mextra_repr\u001b[0m\u001b[0;34m(\u001b[0m\u001b[0mself\u001b[0m\u001b[0;34m)\u001b[0m \u001b[0;34m->\u001b[0m \u001b[0mstr\u001b[0m\u001b[0;34m:\u001b[0m\u001b[0;34m\u001b[0m\u001b[0;34m\u001b[0m\u001b[0m\n",
            "\u001b[0;32m/usr/local/lib/python3.6/dist-packages/torch/nn/functional.py\u001b[0m in \u001b[0;36membedding\u001b[0;34m(input, weight, padding_idx, max_norm, norm_type, scale_grad_by_freq, sparse)\u001b[0m\n\u001b[1;32m   1812\u001b[0m         \u001b[0;31m# remove once script supports set_grad_enabled\u001b[0m\u001b[0;34m\u001b[0m\u001b[0;34m\u001b[0m\u001b[0;34m\u001b[0m\u001b[0m\n\u001b[1;32m   1813\u001b[0m         \u001b[0m_no_grad_embedding_renorm_\u001b[0m\u001b[0;34m(\u001b[0m\u001b[0mweight\u001b[0m\u001b[0;34m,\u001b[0m \u001b[0minput\u001b[0m\u001b[0;34m,\u001b[0m \u001b[0mmax_norm\u001b[0m\u001b[0;34m,\u001b[0m \u001b[0mnorm_type\u001b[0m\u001b[0;34m)\u001b[0m\u001b[0;34m\u001b[0m\u001b[0;34m\u001b[0m\u001b[0m\n\u001b[0;32m-> 1814\u001b[0;31m     \u001b[0;32mreturn\u001b[0m \u001b[0mtorch\u001b[0m\u001b[0;34m.\u001b[0m\u001b[0membedding\u001b[0m\u001b[0;34m(\u001b[0m\u001b[0mweight\u001b[0m\u001b[0;34m,\u001b[0m \u001b[0minput\u001b[0m\u001b[0;34m,\u001b[0m \u001b[0mpadding_idx\u001b[0m\u001b[0;34m,\u001b[0m \u001b[0mscale_grad_by_freq\u001b[0m\u001b[0;34m,\u001b[0m \u001b[0msparse\u001b[0m\u001b[0;34m)\u001b[0m\u001b[0;34m\u001b[0m\u001b[0;34m\u001b[0m\u001b[0m\n\u001b[0m\u001b[1;32m   1815\u001b[0m \u001b[0;34m\u001b[0m\u001b[0m\n\u001b[1;32m   1816\u001b[0m \u001b[0;34m\u001b[0m\u001b[0m\n",
            "\u001b[0;31mIndexError\u001b[0m: index out of range in self"
          ]
        }
      ]
    },
    {
      "cell_type": "code",
      "metadata": {
        "id": "wrwYS2QFhj4w",
        "colab_type": "code",
        "colab": {}
      },
      "source": [
        ""
      ],
      "execution_count": null,
      "outputs": []
    }
  ]
}